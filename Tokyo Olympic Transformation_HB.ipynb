{
 "cells": [
  {
   "cell_type": "code",
   "execution_count": 0,
   "metadata": {
    "application/vnd.databricks.v1+cell": {
     "cellMetadata": {
      "byteLimit": 2048000,
      "rowLimit": 10000
     },
     "inputWidgets": {},
     "nuid": "cb76b58e-ef1d-4104-bb10-9b769aab7552",
     "showTitle": false,
     "title": ""
    }
   },
   "outputs": [],
   "source": [
    "\n",
    "storage_account_name = \"tokyoolympicdata007\"\n",
    "storage_account_key  = \"kU+oFNdI5UoNMIrOkZZJdtlic5PztX0XBGTvaOZySn8shx1SO1CEMEdI5RrRixYltsWbGin0RsKq+AStHCurew==\"\n",
    "\n",
    "\n",
    "spark.conf.set(\n",
    "    f\"fs.azure.account.key.{storage_account_name}.dfs.core.windows.net\",\n",
    "    f\"{storage_account_key}\")\n"
   ]
  },
  {
   "cell_type": "code",
   "execution_count": 0,
   "metadata": {
    "application/vnd.databricks.v1+cell": {
     "cellMetadata": {
      "byteLimit": 2048000,
      "rowLimit": 10000
     },
     "inputWidgets": {},
     "nuid": "13e026ed-880f-4e6c-a136-6b3454d8ddf0",
     "showTitle": false,
     "title": ""
    }
   },
   "outputs": [],
   "source": [
    "# Define the path to the CSV file in your Azure Storage account\n",
    "\n",
    "# NO NEED\n",
    "storage_account_name = \"tokyoolympicdata007\"\n",
    "container_name = \"tokyo-olympic-data\"\n",
    "csv_file_name = \"athletes.csv\"\n",
    "csv_file_path = f\"abfss://{container_name}@{storage_account_name}.dfs.core.windows.net/raw-data/{csv_file_name}\"\n",
    "\n",
    "# Read the CSV file into a Spark DataFrame\n",
    "df = spark.read.csv(csv_file_path, header=True, inferSchema=True)\n",
    "\n",
    "# Show the DataFrame\n",
    "#df.show()\n"
   ]
  },
  {
   "cell_type": "code",
   "execution_count": 0,
   "metadata": {
    "application/vnd.databricks.v1+cell": {
     "cellMetadata": {
      "byteLimit": 2048000,
      "rowLimit": 10000
     },
     "inputWidgets": {},
     "nuid": "9d9de666-41ca-4904-9211-1a1cf982e2f6",
     "showTitle": false,
     "title": ""
    }
   },
   "outputs": [],
   "source": [
    "# make sure to use the right container\n",
    "\n",
    "# Athletes\n",
    "container_name = \"tokyo-olympic-data\"\n",
    "\n",
    "athletes_df = spark.read.csv(f\"abfss://{ container_name}@{storage_account_name}.dfs.core.windows.net/raw-data/athletes.csv\", header=True, inferSchema=True)\n",
    "\n",
    "#athletes_df.show()"
   ]
  },
  {
   "cell_type": "code",
   "execution_count": 0,
   "metadata": {
    "application/vnd.databricks.v1+cell": {
     "cellMetadata": {
      "byteLimit": 2048000,
      "rowLimit": 10000
     },
     "inputWidgets": {},
     "nuid": "3bbd140a-2d78-4f32-ad8f-da20e49a42b9",
     "showTitle": false,
     "title": ""
    }
   },
   "outputs": [],
   "source": [
    "#Coaches\n",
    "coaches_df = spark.read.csv(f\"abfss://{ container_name}@{storage_account_name}.dfs.core.windows.net/raw-data/coaches.csv\", header=True,inferSchema=True)\n",
    "\n",
    "#coaches_df.show()"
   ]
  },
  {
   "cell_type": "code",
   "execution_count": 0,
   "metadata": {
    "application/vnd.databricks.v1+cell": {
     "cellMetadata": {
      "byteLimit": 2048000,
      "rowLimit": 10000
     },
     "inputWidgets": {},
     "nuid": "cff201c1-b766-4436-a6f2-773b22e9e897",
     "showTitle": false,
     "title": ""
    }
   },
   "outputs": [],
   "source": [
    "# Entries\n",
    "entriesgender_df = spark.read.csv(f\"abfss://{ container_name}@{storage_account_name}.dfs.core.windows.net/raw-data/entriesgender.csv\", header=True,inferSchema=True)\n",
    "\n",
    "#entriesgender_df.show()\n"
   ]
  },
  {
   "cell_type": "code",
   "execution_count": 0,
   "metadata": {
    "application/vnd.databricks.v1+cell": {
     "cellMetadata": {
      "byteLimit": 2048000,
      "rowLimit": 10000
     },
     "inputWidgets": {},
     "nuid": "11ca6a77-7637-4b35-928c-82d13bb08a12",
     "showTitle": false,
     "title": ""
    }
   },
   "outputs": [],
   "source": [
    "#Medals\n",
    "medals_df = spark.read.csv(f\"abfss://{ container_name}@{storage_account_name}.dfs.core.windows.net/raw-data/medals.csv\", header=True,inferSchema=True)\n",
    "\n",
    "#medals_df.show()"
   ]
  },
  {
   "cell_type": "code",
   "execution_count": 0,
   "metadata": {
    "application/vnd.databricks.v1+cell": {
     "cellMetadata": {
      "byteLimit": 2048000,
      "rowLimit": 10000
     },
     "inputWidgets": {},
     "nuid": "a530f72c-2bbc-49a2-b06d-2fdfce4a10d8",
     "showTitle": false,
     "title": ""
    }
   },
   "outputs": [],
   "source": [
    "# Teams\n",
    "teams_df = spark.read.csv(f\"abfss://{ container_name}@{storage_account_name}.dfs.core.windows.net/raw-data/teams.csv\", header=True,inferSchema=True)\n",
    "\n",
    "#teams_df.show()"
   ]
  },
  {
   "cell_type": "code",
   "execution_count": 0,
   "metadata": {
    "application/vnd.databricks.v1+cell": {
     "cellMetadata": {
      "byteLimit": 2048000,
      "rowLimit": 10000
     },
     "inputWidgets": {},
     "nuid": "20ab516f-3196-45ac-94e4-a44fe888819e",
     "showTitle": false,
     "title": ""
    }
   },
   "outputs": [
    {
     "output_type": "stream",
     "name": "stdout",
     "output_type": "stream",
     "text": [
      "+--------------------+----+\n|        Team_Country|Gold|\n+--------------------+----+\n|United States of ...|  39|\n|People's Republic...|  38|\n|               Japan|  27|\n|       Great Britain|  22|\n|                 ROC|  20|\n|           Australia|  17|\n|         Netherlands|  10|\n|              France|  10|\n|             Germany|  10|\n|               Italy|  10|\n|              Canada|   7|\n|              Brazil|   7|\n|         New Zealand|   7|\n|                Cuba|   7|\n|             Hungary|   6|\n|   Republic of Korea|   6|\n|              Poland|   4|\n|      Czech Republic|   4|\n|               Kenya|   4|\n|              Norway|   4|\n+--------------------+----+\nonly showing top 20 rows\n\n"
     ]
    }
   ],
   "source": [
    "# Find the top countries with the highest number of gold medals\n",
    "top_gold_medal_countries = medals_df.orderBy(\"Gold\", ascending=False).select(\"Team_Country\",\"Gold\")\n",
    "top_gold_medal_countries.show()"
   ]
  },
  {
   "cell_type": "code",
   "execution_count": 0,
   "metadata": {
    "application/vnd.databricks.v1+cell": {
     "cellMetadata": {
      "byteLimit": 2048000,
      "rowLimit": 10000
     },
     "inputWidgets": {},
     "nuid": "5fbe423f-99a2-4e4b-908f-152b9619358b",
     "showTitle": false,
     "title": ""
    }
   },
   "outputs": [
    {
     "output_type": "stream",
     "name": "stdout",
     "output_type": "stream",
     "text": [
      "+--------------------+------+----+-----+-------------------+-------------------+\n|          Discipline|Female|Male|Total|         Avg_Female|           Avg_Male|\n+--------------------+------+----+-----+-------------------+-------------------+\n|      3x3 Basketball|    32|  32|   64|                0.5|                0.5|\n|             Archery|    64|  64|  128|                0.5|                0.5|\n| Artistic Gymnastics|    98|  98|  196|                0.5|                0.5|\n|   Artistic Swimming|   105|   0|  105|                1.0|                0.0|\n|           Athletics|   969|1072| 2041| 0.4747672709456149| 0.5252327290543851|\n|           Badminton|    86|  87|  173|0.49710982658959535| 0.5028901734104047|\n|   Baseball/Softball|    90| 144|  234|0.38461538461538464| 0.6153846153846154|\n|          Basketball|   144| 144|  288|                0.5|                0.5|\n|    Beach Volleyball|    48|  48|   96|                0.5|                0.5|\n|              Boxing|   102| 187|  289|0.35294117647058826| 0.6470588235294118|\n|        Canoe Slalom|    41|  41|   82|                0.5|                0.5|\n|        Canoe Sprint|   123| 126|  249| 0.4939759036144578| 0.5060240963855421|\n|Cycling BMX Frees...|    10|   9|   19| 0.5263157894736842|0.47368421052631576|\n|  Cycling BMX Racing|    24|  24|   48|                0.5|                0.5|\n|Cycling Mountain ...|    38|  38|   76|                0.5|                0.5|\n|        Cycling Road|    70| 131|  201| 0.3482587064676617| 0.6517412935323383|\n|       Cycling Track|    90|  99|  189|0.47619047619047616| 0.5238095238095238|\n|              Diving|    72|  71|  143| 0.5034965034965035| 0.4965034965034965|\n|          Equestrian|    73| 125|  198| 0.3686868686868687| 0.6313131313131313|\n|             Fencing|   107| 108|  215|0.49767441860465117| 0.5023255813953489|\n+--------------------+------+----+-----+-------------------+-------------------+\nonly showing top 20 rows\n\n"
     ]
    }
   ],
   "source": [
    "# Calculate the average number of entries by gender for each discipline\n",
    "average_entries_by_gender = entriesgender_df.withColumn(\n",
    "    'Avg_Female', entriesgender_df['Female'] / entriesgender_df['Total']\n",
    ").withColumn(\n",
    "    'Avg_Male', entriesgender_df['Male'] / entriesgender_df['Total']\n",
    ")\n",
    "average_entries_by_gender.show()"
   ]
  },
  {
   "cell_type": "code",
   "execution_count": 0,
   "metadata": {
    "application/vnd.databricks.v1+cell": {
     "cellMetadata": {
      "byteLimit": 2048000,
      "rowLimit": 10000
     },
     "inputWidgets": {},
     "nuid": "b519452b-7983-4efa-87fe-f42bd1664871",
     "showTitle": false,
     "title": ""
    }
   },
   "outputs": [],
   "source": [
    "average_entries_by_gender.write.format(\"com.databricks.spark.csv\").option(\"header\",\"true\").option(\"delimiter\", \",\").mode(\"overwrite\").save(\"abfss://tokyo-olympic-data@tokyoolympicdata007.dfs.core.windows.net/transformed-data/avg_ent00\")"
   ]
  },
  {
   "cell_type": "code",
   "execution_count": 0,
   "metadata": {
    "application/vnd.databricks.v1+cell": {
     "cellMetadata": {
      "byteLimit": 2048000,
      "rowLimit": 10000
     },
     "inputWidgets": {},
     "nuid": "545b2038-caf7-40ca-8b1a-ce075bf270f3",
     "showTitle": false,
     "title": ""
    }
   },
   "outputs": [],
   "source": [
    "top_gold_medal_countries.write.format(\"com.databricks.spark.csv\").option(\"header\",\"true\").option(\"delimiter\", \",\").mode(\"overwrite\").save(\"abfss://tokyo-olympic-data@tokyoolympicdata007.dfs.core.windows.net/transformed-data/top_gold00\")"
   ]
  },
  {
   "cell_type": "code",
   "execution_count": 0,
   "metadata": {
    "application/vnd.databricks.v1+cell": {
     "cellMetadata": {
      "byteLimit": 2048000,
      "rowLimit": 10000
     },
     "inputWidgets": {},
     "nuid": "7e33b2c6-ceeb-4e65-bdaa-5affed4e00b4",
     "showTitle": false,
     "title": ""
    }
   },
   "outputs": [],
   "source": [
    "\n",
    "athletes_df.write.format(\"com.databricks.spark.csv\").option(\"header\",\"true\").option(\"delimiter\", \",\").mode(\"overwrite\").save(\"abfss://tokyo-olympic-data@tokyoolympicdata007.dfs.core.windows.net/transformed-data/athletes1\")\n",
    "\n",
    "coaches_df.write.format(\"com.databricks.spark.csv\").option(\"header\",\"true\").option(\"delimiter\", \",\").mode(\"overwrite\").save(\"abfss://tokyo-olympic-data@tokyoolympicdata007.dfs.core.windows.net/transformed-data/coaches1\")\n",
    "\n",
    "\n",
    "entriesgender_df.write.format(\"com.databricks.spark.csv\").option(\"header\",\"true\").option(\"delimiter\", \",\").mode(\"overwrite\").save(\"abfss://tokyo-olympic-data@tokyoolympicdata007.dfs.core.windows.net/transformed-data/entriesgender1\")\n",
    "\n",
    "medals_df.write.format(\"com.databricks.spark.csv\").option(\"header\",\"true\").option(\"delimiter\", \",\").mode(\"overwrite\").save(\"abfss://tokyo-olympic-data@tokyoolympicdata007.dfs.core.windows.net/transformed-data/medals1\")\n",
    "\n",
    "\n",
    "teams_df.write.format(\"com.databricks.spark.csv\").option(\"header\",\"true\").option(\"delimiter\", \",\").mode(\"overwrite\").save(\"abfss://tokyo-olympic-data@tokyoolympicdata007.dfs.core.windows.net/transformed-data/teams1\")"
   ]
  },
  {
   "cell_type": "code",
   "execution_count": 0,
   "metadata": {
    "application/vnd.databricks.v1+cell": {
     "cellMetadata": {},
     "inputWidgets": {},
     "nuid": "2bb5fa43-7fd1-4246-96b2-f3c6405c7a47",
     "showTitle": false,
     "title": ""
    }
   },
   "outputs": [],
   "source": []
  }
 ],
 "metadata": {
  "application/vnd.databricks.v1+notebook": {
   "dashboards": [],
   "language": "python",
   "notebookMetadata": {
    "pythonIndentUnit": 4
   },
   "notebookName": "Tokyo Olympic Transformation",
   "widgets": {}
  }
 },
 "nbformat": 4,
 "nbformat_minor": 0
}
